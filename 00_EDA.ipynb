{
 "cells": [
  {
   "cell_type": "markdown",
   "metadata": {},
   "source": [
    "## Exploratory Data Analysis"
   ]
  },
  {
   "cell_type": "markdown",
   "metadata": {},
   "source": [
    "As with any new competition we're going to have to look at the data we're working with. We'll start by loading the annotations and getting a rough sense for what everything looks like."
   ]
  },
  {
   "cell_type": "code",
   "execution_count": 16,
   "metadata": {},
   "outputs": [],
   "source": [
    "import pandas as pd\n",
    "import matplotlib.pyplot as plt\n",
    "import seaborn as sns"
   ]
  },
  {
   "cell_type": "code",
   "execution_count": 2,
   "metadata": {},
   "outputs": [],
   "source": [
    "path = \"data/train/train-annotations-bbox.csv\""
   ]
  },
  {
   "cell_type": "code",
   "execution_count": 3,
   "metadata": {},
   "outputs": [],
   "source": [
    "train = pd.read_csv(path)"
   ]
  },
  {
   "cell_type": "code",
   "execution_count": 10,
   "metadata": {},
   "outputs": [
    {
     "name": "stdout",
     "output_type": "stream",
     "text": [
      "(14610229, 14)\n"
     ]
    }
   ],
   "source": [
    "print(train.shape)"
   ]
  },
  {
   "cell_type": "code",
   "execution_count": 4,
   "metadata": {},
   "outputs": [
    {
     "data": {
      "text/html": [
       "<div>\n",
       "<style scoped>\n",
       "    .dataframe tbody tr th:only-of-type {\n",
       "        vertical-align: middle;\n",
       "    }\n",
       "\n",
       "    .dataframe tbody tr th {\n",
       "        vertical-align: top;\n",
       "    }\n",
       "\n",
       "    .dataframe thead th {\n",
       "        text-align: right;\n",
       "    }\n",
       "</style>\n",
       "<table border=\"1\" class=\"dataframe\">\n",
       "  <thead>\n",
       "    <tr style=\"text-align: right;\">\n",
       "      <th></th>\n",
       "      <th>ImageID</th>\n",
       "      <th>Source</th>\n",
       "      <th>LabelName</th>\n",
       "      <th>Confidence</th>\n",
       "      <th>XMin</th>\n",
       "      <th>XMax</th>\n",
       "      <th>YMin</th>\n",
       "      <th>YMax</th>\n",
       "      <th>IsOccluded</th>\n",
       "      <th>IsTruncated</th>\n",
       "      <th>IsGroupOf</th>\n",
       "      <th>IsDepiction</th>\n",
       "      <th>IsInside</th>\n",
       "    </tr>\n",
       "  </thead>\n",
       "  <tbody>\n",
       "    <tr>\n",
       "      <th>0</th>\n",
       "      <td>000002b66c9c498e</td>\n",
       "      <td>xclick</td>\n",
       "      <td>/m/01g317</td>\n",
       "      <td>1</td>\n",
       "      <td>0.012500</td>\n",
       "      <td>0.195312</td>\n",
       "      <td>0.148438</td>\n",
       "      <td>0.587500</td>\n",
       "      <td>0</td>\n",
       "      <td>1</td>\n",
       "      <td>0</td>\n",
       "      <td>0</td>\n",
       "      <td>0</td>\n",
       "    </tr>\n",
       "    <tr>\n",
       "      <th>1</th>\n",
       "      <td>000002b66c9c498e</td>\n",
       "      <td>xclick</td>\n",
       "      <td>/m/01g317</td>\n",
       "      <td>1</td>\n",
       "      <td>0.025000</td>\n",
       "      <td>0.276563</td>\n",
       "      <td>0.714063</td>\n",
       "      <td>0.948438</td>\n",
       "      <td>0</td>\n",
       "      <td>1</td>\n",
       "      <td>0</td>\n",
       "      <td>0</td>\n",
       "      <td>0</td>\n",
       "    </tr>\n",
       "    <tr>\n",
       "      <th>2</th>\n",
       "      <td>000002b66c9c498e</td>\n",
       "      <td>xclick</td>\n",
       "      <td>/m/01g317</td>\n",
       "      <td>1</td>\n",
       "      <td>0.151562</td>\n",
       "      <td>0.310937</td>\n",
       "      <td>0.198437</td>\n",
       "      <td>0.590625</td>\n",
       "      <td>1</td>\n",
       "      <td>0</td>\n",
       "      <td>0</td>\n",
       "      <td>0</td>\n",
       "      <td>0</td>\n",
       "    </tr>\n",
       "    <tr>\n",
       "      <th>3</th>\n",
       "      <td>000002b66c9c498e</td>\n",
       "      <td>xclick</td>\n",
       "      <td>/m/01g317</td>\n",
       "      <td>1</td>\n",
       "      <td>0.256250</td>\n",
       "      <td>0.429688</td>\n",
       "      <td>0.651563</td>\n",
       "      <td>0.925000</td>\n",
       "      <td>1</td>\n",
       "      <td>0</td>\n",
       "      <td>0</td>\n",
       "      <td>0</td>\n",
       "      <td>0</td>\n",
       "    </tr>\n",
       "    <tr>\n",
       "      <th>4</th>\n",
       "      <td>000002b66c9c498e</td>\n",
       "      <td>xclick</td>\n",
       "      <td>/m/01g317</td>\n",
       "      <td>1</td>\n",
       "      <td>0.257812</td>\n",
       "      <td>0.346875</td>\n",
       "      <td>0.235938</td>\n",
       "      <td>0.385938</td>\n",
       "      <td>1</td>\n",
       "      <td>0</td>\n",
       "      <td>0</td>\n",
       "      <td>0</td>\n",
       "      <td>0</td>\n",
       "    </tr>\n",
       "  </tbody>\n",
       "</table>\n",
       "</div>"
      ],
      "text/plain": [
       "            ImageID  Source  LabelName  Confidence      XMin      XMax  \\\n",
       "0  000002b66c9c498e  xclick  /m/01g317           1  0.012500  0.195312   \n",
       "1  000002b66c9c498e  xclick  /m/01g317           1  0.025000  0.276563   \n",
       "2  000002b66c9c498e  xclick  /m/01g317           1  0.151562  0.310937   \n",
       "3  000002b66c9c498e  xclick  /m/01g317           1  0.256250  0.429688   \n",
       "4  000002b66c9c498e  xclick  /m/01g317           1  0.257812  0.346875   \n",
       "\n",
       "       YMin      YMax  IsOccluded  IsTruncated  IsGroupOf  IsDepiction  \\\n",
       "0  0.148438  0.587500           0            1          0            0   \n",
       "1  0.714063  0.948438           0            1          0            0   \n",
       "2  0.198437  0.590625           1            0          0            0   \n",
       "3  0.651563  0.925000           1            0          0            0   \n",
       "4  0.235938  0.385938           1            0          0            0   \n",
       "\n",
       "   IsInside  \n",
       "0         0  \n",
       "1         0  \n",
       "2         0  \n",
       "3         0  \n",
       "4         0  "
      ]
     },
     "execution_count": 4,
     "metadata": {},
     "output_type": "execute_result"
    }
   ],
   "source": [
    "train.head()"
   ]
  },
  {
   "cell_type": "markdown",
   "metadata": {},
   "source": [
    "The label names are kept in a separate file called `class-descriptions-boxable.csv`. Let's take a look at that now."
   ]
  },
  {
   "cell_type": "code",
   "execution_count": 5,
   "metadata": {},
   "outputs": [
    {
     "data": {
      "text/html": [
       "<div>\n",
       "<style scoped>\n",
       "    .dataframe tbody tr th:only-of-type {\n",
       "        vertical-align: middle;\n",
       "    }\n",
       "\n",
       "    .dataframe tbody tr th {\n",
       "        vertical-align: top;\n",
       "    }\n",
       "\n",
       "    .dataframe thead th {\n",
       "        text-align: right;\n",
       "    }\n",
       "</style>\n",
       "<table border=\"1\" class=\"dataframe\">\n",
       "  <thead>\n",
       "    <tr style=\"text-align: right;\">\n",
       "      <th></th>\n",
       "      <th>LabelName</th>\n",
       "      <th>Class</th>\n",
       "    </tr>\n",
       "  </thead>\n",
       "  <tbody>\n",
       "    <tr>\n",
       "      <th>0</th>\n",
       "      <td>/m/011k07</td>\n",
       "      <td>Tortoise</td>\n",
       "    </tr>\n",
       "    <tr>\n",
       "      <th>1</th>\n",
       "      <td>/m/011q46kg</td>\n",
       "      <td>Container</td>\n",
       "    </tr>\n",
       "    <tr>\n",
       "      <th>2</th>\n",
       "      <td>/m/012074</td>\n",
       "      <td>Magpie</td>\n",
       "    </tr>\n",
       "    <tr>\n",
       "      <th>3</th>\n",
       "      <td>/m/0120dh</td>\n",
       "      <td>Sea turtle</td>\n",
       "    </tr>\n",
       "    <tr>\n",
       "      <th>4</th>\n",
       "      <td>/m/01226z</td>\n",
       "      <td>Football</td>\n",
       "    </tr>\n",
       "  </tbody>\n",
       "</table>\n",
       "</div>"
      ],
      "text/plain": [
       "     LabelName       Class\n",
       "0    /m/011k07    Tortoise\n",
       "1  /m/011q46kg   Container\n",
       "2    /m/012074      Magpie\n",
       "3    /m/0120dh  Sea turtle\n",
       "4    /m/01226z    Football"
      ]
     },
     "execution_count": 5,
     "metadata": {},
     "output_type": "execute_result"
    }
   ],
   "source": [
    "class_names_path = \"data/train/class-descriptions-boxable.csv\"\n",
    "class_names = pd.read_csv(class_names_path, names=[\"LabelName\", \"Class\"])\n",
    "class_names.head()"
   ]
  },
  {
   "cell_type": "markdown",
   "metadata": {},
   "source": [
    "Let's merge the human readable `Class` column into our `train` dataframe."
   ]
  },
  {
   "cell_type": "code",
   "execution_count": 6,
   "metadata": {},
   "outputs": [
    {
     "data": {
      "text/html": [
       "<div>\n",
       "<style scoped>\n",
       "    .dataframe tbody tr th:only-of-type {\n",
       "        vertical-align: middle;\n",
       "    }\n",
       "\n",
       "    .dataframe tbody tr th {\n",
       "        vertical-align: top;\n",
       "    }\n",
       "\n",
       "    .dataframe thead th {\n",
       "        text-align: right;\n",
       "    }\n",
       "</style>\n",
       "<table border=\"1\" class=\"dataframe\">\n",
       "  <thead>\n",
       "    <tr style=\"text-align: right;\">\n",
       "      <th></th>\n",
       "      <th>ImageID</th>\n",
       "      <th>Source</th>\n",
       "      <th>LabelName</th>\n",
       "      <th>Confidence</th>\n",
       "      <th>XMin</th>\n",
       "      <th>XMax</th>\n",
       "      <th>YMin</th>\n",
       "      <th>YMax</th>\n",
       "      <th>IsOccluded</th>\n",
       "      <th>IsTruncated</th>\n",
       "      <th>IsGroupOf</th>\n",
       "      <th>IsDepiction</th>\n",
       "      <th>IsInside</th>\n",
       "      <th>Class</th>\n",
       "    </tr>\n",
       "  </thead>\n",
       "  <tbody>\n",
       "    <tr>\n",
       "      <th>0</th>\n",
       "      <td>000002b66c9c498e</td>\n",
       "      <td>xclick</td>\n",
       "      <td>/m/01g317</td>\n",
       "      <td>1</td>\n",
       "      <td>0.012500</td>\n",
       "      <td>0.195312</td>\n",
       "      <td>0.148438</td>\n",
       "      <td>0.587500</td>\n",
       "      <td>0</td>\n",
       "      <td>1</td>\n",
       "      <td>0</td>\n",
       "      <td>0</td>\n",
       "      <td>0</td>\n",
       "      <td>Person</td>\n",
       "    </tr>\n",
       "    <tr>\n",
       "      <th>1</th>\n",
       "      <td>000002b66c9c498e</td>\n",
       "      <td>xclick</td>\n",
       "      <td>/m/01g317</td>\n",
       "      <td>1</td>\n",
       "      <td>0.025000</td>\n",
       "      <td>0.276563</td>\n",
       "      <td>0.714063</td>\n",
       "      <td>0.948438</td>\n",
       "      <td>0</td>\n",
       "      <td>1</td>\n",
       "      <td>0</td>\n",
       "      <td>0</td>\n",
       "      <td>0</td>\n",
       "      <td>Person</td>\n",
       "    </tr>\n",
       "    <tr>\n",
       "      <th>2</th>\n",
       "      <td>000002b66c9c498e</td>\n",
       "      <td>xclick</td>\n",
       "      <td>/m/01g317</td>\n",
       "      <td>1</td>\n",
       "      <td>0.151562</td>\n",
       "      <td>0.310937</td>\n",
       "      <td>0.198437</td>\n",
       "      <td>0.590625</td>\n",
       "      <td>1</td>\n",
       "      <td>0</td>\n",
       "      <td>0</td>\n",
       "      <td>0</td>\n",
       "      <td>0</td>\n",
       "      <td>Person</td>\n",
       "    </tr>\n",
       "    <tr>\n",
       "      <th>3</th>\n",
       "      <td>000002b66c9c498e</td>\n",
       "      <td>xclick</td>\n",
       "      <td>/m/01g317</td>\n",
       "      <td>1</td>\n",
       "      <td>0.256250</td>\n",
       "      <td>0.429688</td>\n",
       "      <td>0.651563</td>\n",
       "      <td>0.925000</td>\n",
       "      <td>1</td>\n",
       "      <td>0</td>\n",
       "      <td>0</td>\n",
       "      <td>0</td>\n",
       "      <td>0</td>\n",
       "      <td>Person</td>\n",
       "    </tr>\n",
       "    <tr>\n",
       "      <th>4</th>\n",
       "      <td>000002b66c9c498e</td>\n",
       "      <td>xclick</td>\n",
       "      <td>/m/01g317</td>\n",
       "      <td>1</td>\n",
       "      <td>0.257812</td>\n",
       "      <td>0.346875</td>\n",
       "      <td>0.235938</td>\n",
       "      <td>0.385938</td>\n",
       "      <td>1</td>\n",
       "      <td>0</td>\n",
       "      <td>0</td>\n",
       "      <td>0</td>\n",
       "      <td>0</td>\n",
       "      <td>Person</td>\n",
       "    </tr>\n",
       "    <tr>\n",
       "      <th>5</th>\n",
       "      <td>000002b66c9c498e</td>\n",
       "      <td>xclick</td>\n",
       "      <td>/m/01g317</td>\n",
       "      <td>1</td>\n",
       "      <td>0.320312</td>\n",
       "      <td>0.368750</td>\n",
       "      <td>0.260938</td>\n",
       "      <td>0.328125</td>\n",
       "      <td>1</td>\n",
       "      <td>0</td>\n",
       "      <td>0</td>\n",
       "      <td>0</td>\n",
       "      <td>0</td>\n",
       "      <td>Person</td>\n",
       "    </tr>\n",
       "    <tr>\n",
       "      <th>6</th>\n",
       "      <td>000002b66c9c498e</td>\n",
       "      <td>xclick</td>\n",
       "      <td>/m/01g317</td>\n",
       "      <td>1</td>\n",
       "      <td>0.412500</td>\n",
       "      <td>0.945312</td>\n",
       "      <td>0.120312</td>\n",
       "      <td>0.475000</td>\n",
       "      <td>1</td>\n",
       "      <td>0</td>\n",
       "      <td>1</td>\n",
       "      <td>0</td>\n",
       "      <td>0</td>\n",
       "      <td>Person</td>\n",
       "    </tr>\n",
       "    <tr>\n",
       "      <th>7</th>\n",
       "      <td>000002b66c9c498e</td>\n",
       "      <td>xclick</td>\n",
       "      <td>/m/0284d</td>\n",
       "      <td>1</td>\n",
       "      <td>0.528125</td>\n",
       "      <td>0.923437</td>\n",
       "      <td>0.675000</td>\n",
       "      <td>0.964063</td>\n",
       "      <td>0</td>\n",
       "      <td>0</td>\n",
       "      <td>0</td>\n",
       "      <td>0</td>\n",
       "      <td>0</td>\n",
       "      <td>Dairy Product</td>\n",
       "    </tr>\n",
       "    <tr>\n",
       "      <th>8</th>\n",
       "      <td>000002b66c9c498e</td>\n",
       "      <td>xclick</td>\n",
       "      <td>/m/04bcr3</td>\n",
       "      <td>1</td>\n",
       "      <td>0.064062</td>\n",
       "      <td>0.492188</td>\n",
       "      <td>0.889063</td>\n",
       "      <td>0.993750</td>\n",
       "      <td>0</td>\n",
       "      <td>0</td>\n",
       "      <td>0</td>\n",
       "      <td>0</td>\n",
       "      <td>0</td>\n",
       "      <td>Table</td>\n",
       "    </tr>\n",
       "    <tr>\n",
       "      <th>9</th>\n",
       "      <td>000002b66c9c498e</td>\n",
       "      <td>xclick</td>\n",
       "      <td>/m/04bcr3</td>\n",
       "      <td>1</td>\n",
       "      <td>0.301562</td>\n",
       "      <td>0.990625</td>\n",
       "      <td>0.462500</td>\n",
       "      <td>0.595312</td>\n",
       "      <td>0</td>\n",
       "      <td>0</td>\n",
       "      <td>0</td>\n",
       "      <td>0</td>\n",
       "      <td>0</td>\n",
       "      <td>Table</td>\n",
       "    </tr>\n",
       "  </tbody>\n",
       "</table>\n",
       "</div>"
      ],
      "text/plain": [
       "            ImageID  Source  LabelName  Confidence      XMin      XMax  \\\n",
       "0  000002b66c9c498e  xclick  /m/01g317           1  0.012500  0.195312   \n",
       "1  000002b66c9c498e  xclick  /m/01g317           1  0.025000  0.276563   \n",
       "2  000002b66c9c498e  xclick  /m/01g317           1  0.151562  0.310937   \n",
       "3  000002b66c9c498e  xclick  /m/01g317           1  0.256250  0.429688   \n",
       "4  000002b66c9c498e  xclick  /m/01g317           1  0.257812  0.346875   \n",
       "5  000002b66c9c498e  xclick  /m/01g317           1  0.320312  0.368750   \n",
       "6  000002b66c9c498e  xclick  /m/01g317           1  0.412500  0.945312   \n",
       "7  000002b66c9c498e  xclick   /m/0284d           1  0.528125  0.923437   \n",
       "8  000002b66c9c498e  xclick  /m/04bcr3           1  0.064062  0.492188   \n",
       "9  000002b66c9c498e  xclick  /m/04bcr3           1  0.301562  0.990625   \n",
       "\n",
       "       YMin      YMax  IsOccluded  IsTruncated  IsGroupOf  IsDepiction  \\\n",
       "0  0.148438  0.587500           0            1          0            0   \n",
       "1  0.714063  0.948438           0            1          0            0   \n",
       "2  0.198437  0.590625           1            0          0            0   \n",
       "3  0.651563  0.925000           1            0          0            0   \n",
       "4  0.235938  0.385938           1            0          0            0   \n",
       "5  0.260938  0.328125           1            0          0            0   \n",
       "6  0.120312  0.475000           1            0          1            0   \n",
       "7  0.675000  0.964063           0            0          0            0   \n",
       "8  0.889063  0.993750           0            0          0            0   \n",
       "9  0.462500  0.595312           0            0          0            0   \n",
       "\n",
       "   IsInside          Class  \n",
       "0         0         Person  \n",
       "1         0         Person  \n",
       "2         0         Person  \n",
       "3         0         Person  \n",
       "4         0         Person  \n",
       "5         0         Person  \n",
       "6         0         Person  \n",
       "7         0  Dairy Product  \n",
       "8         0          Table  \n",
       "9         0          Table  "
      ]
     },
     "execution_count": 6,
     "metadata": {},
     "output_type": "execute_result"
    }
   ],
   "source": [
    "train = pd.merge(train, class_names, how='left', on=['LabelName'])\n",
    "train.head(10)"
   ]
  },
  {
   "cell_type": "markdown",
   "metadata": {},
   "source": [
    "## Label Distribution"
   ]
  },
  {
   "cell_type": "markdown",
   "metadata": {},
   "source": [
    "There are 600 distinct classes present. Some are overrepresented and some are underrepresented. Let's take a look at the top 100 classes by count and the bottom 100 classes by count."
   ]
  },
  {
   "cell_type": "code",
   "execution_count": 28,
   "metadata": {},
   "outputs": [],
   "source": [
    "class_counts = train[\"Class\"].value_counts()"
   ]
  },
  {
   "cell_type": "code",
   "execution_count": 31,
   "metadata": {},
   "outputs": [
    {
     "data": {
      "text/plain": [
       "Clothing      1438128\n",
       "Man           1418594\n",
       "Tree          1051344\n",
       "Human face    1037710\n",
       "Person        1034721\n",
       "Name: Class, dtype: int64"
      ]
     },
     "execution_count": 31,
     "metadata": {},
     "output_type": "execute_result"
    }
   ],
   "source": [
    "class_counts[:5]"
   ]
  },
  {
   "cell_type": "code",
   "execution_count": 32,
   "metadata": {},
   "outputs": [
    {
     "data": {
      "text/plain": [
       "Hair spray      10\n",
       "Maracas         10\n",
       "Bomb             8\n",
       "Can opener       7\n",
       "Paper cutter     4\n",
       "Name: Class, dtype: int64"
      ]
     },
     "execution_count": 32,
     "metadata": {},
     "output_type": "execute_result"
    }
   ],
   "source": [
    "class_counts[-5:]"
   ]
  },
  {
   "cell_type": "code",
   "execution_count": 29,
   "metadata": {},
   "outputs": [
    {
     "data": {
      "image/png": "[encoded data removed]",
      "text/plain": [
       "<Figure size 720x504 with 1 Axes>"
      ]
     },
     "metadata": {
      "needs_background": "light"
     },
     "output_type": "display_data"
    }
   ],
   "source": [
    "fig, ax = plt.subplots(1, 1, figsize=(10, 7))\n",
    "sns.barplot(class_counts[:100].index, class_counts[:100].values, alpha=0.8)\n",
    "plt.xlabel('Class')\n",
    "plt.ylabel('Count')\n",
    "plt.show()"
   ]
  },
  {
   "cell_type": "code",
   "execution_count": 30,
   "metadata": {},
   "outputs": [
    {
     "data": {
      "image/png": "[encoded data removed]",
      "text/plain": [
       "<Figure size 720x504 with 1 Axes>"
      ]
     },
     "metadata": {
      "needs_background": "light"
     },
     "output_type": "display_data"
    }
   ],
   "source": [
    "fig, ax = plt.subplots(1, 1, figsize=(10, 7))\n",
    "sns.barplot(class_counts[-100:].index, class_counts[-100:].values, alpha=0.8)\n",
    "plt.xlabel('Class')\n",
    "plt.ylabel('Count')\n",
    "plt.show()"
   ]
  }
 ],
 "metadata": {
  "kernelspec": {
   "display_name": "Python (ml)",
   "language": "python",
   "name": "ml"
  },
  "language_info": {
   "codemirror_mode": {
    "name": "ipython",
    "version": 3
   },
   "file_extension": ".py",
   "mimetype": "text/x-python",
   "name": "python",
   "nbconvert_exporter": "python",
   "pygments_lexer": "ipython3",
   "version": "3.6.6"
  }
 },
 "nbformat": 4,
 "nbformat_minor": 2
}
